{
 "cells": [
  {
   "cell_type": "code",
   "execution_count": 1,
   "id": "5c802170",
   "metadata": {},
   "outputs": [],
   "source": [
    "from splinter import Browser\n",
    "import pandas as pd\n",
    "from bs4 import BeautifulSoup as bs\n",
    "import time\n",
    "from webdriver_manager.chrome import ChromeDriverManager"
   ]
  },
  {
   "cell_type": "code",
   "execution_count": 2,
   "id": "e9851a96",
   "metadata": {},
   "outputs": [
    {
     "name": "stderr",
     "output_type": "stream",
     "text": [
      "\n",
      "\n",
      "====== WebDriver manager ======\n",
      "Current google-chrome version is 101.0.4951\n",
      "Get LATEST chromedriver version for 101.0.4951 google-chrome\n",
      "There is no [mac64] chromedriver for browser  in cache\n",
      "Trying to download new driver from https://chromedriver.storage.googleapis.com/101.0.4951.41/chromedriver_mac64.zip\n",
      "Driver has been saved in cache [/Users/adityabagchi/.wdm/drivers/chromedriver/mac64/101.0.4951.41]\n"
     ]
    }
   ],
   "source": [
    "executable_path = {'executable_path': ChromeDriverManager().install()}\n",
    "browser = Browser('chrome', **executable_path, headless=False)"
   ]
  },
  {
   "cell_type": "code",
   "execution_count": 3,
   "id": "09764b0a",
   "metadata": {},
   "outputs": [],
   "source": [
    "mars= {}\n",
    "url= \"https://redplanetscience.com/\"\n",
    "browser.visit(url)"
   ]
  },
  {
   "cell_type": "code",
   "execution_count": 4,
   "id": "02a02d6b",
   "metadata": {},
   "outputs": [
    {
     "data": {
      "text/plain": [
       "'Engineers have a plan for pushing down on the heat probe, which has been stuck at the Martian surface for a year.'"
      ]
     },
     "execution_count": 4,
     "metadata": {},
     "output_type": "execute_result"
    }
   ],
   "source": [
    "html= browser.html\n",
    "soup= bs(html, 'html.parser')\n",
    "element= soup.select_one('div.list_text')\n",
    "title= element.find('div', class_= 'content_title').text\n",
    "title\n",
    "paragraph= element.find('div', class_= 'article_teaser_body').text\n",
    "paragraph"
   ]
  },
  {
   "cell_type": "code",
   "execution_count": 5,
   "id": "f5bdf11b",
   "metadata": {},
   "outputs": [],
   "source": [
    "mars[\"news_title\"]= title\n",
    "mars[\"news_paragraph\"]= paragraph"
   ]
  },
  {
   "cell_type": "code",
   "execution_count": 6,
   "id": "d2ad8ace",
   "metadata": {},
   "outputs": [],
   "source": [
    "url2= \"https://spaceimages-mars.com/\"\n",
    "browser.visit(url2)\n"
   ]
  },
  {
   "cell_type": "code",
   "execution_count": 7,
   "id": "da35672c",
   "metadata": {},
   "outputs": [],
   "source": [
    "\n",
    "element= browser.find_by_tag('button')[1]\n",
    "element.click()\n"
   ]
  },
  {
   "cell_type": "code",
   "execution_count": 8,
   "id": "aa799f0d",
   "metadata": {},
   "outputs": [
    {
     "data": {
      "text/plain": [
       "'image/featured/mars1.jpg'"
      ]
     },
     "execution_count": 8,
     "metadata": {},
     "output_type": "execute_result"
    }
   ],
   "source": [
    "html= browser.html\n",
    "soup= bs(html, 'html.parser')\n",
    "image_url= soup.find('img', class_= 'fancybox-image')['src']\n",
    "image_url"
   ]
  },
  {
   "cell_type": "code",
   "execution_count": 9,
   "id": "36f3352a",
   "metadata": {},
   "outputs": [
    {
     "data": {
      "text/plain": [
       "'https://spaceimages-mars.com/image/featured/mars1.jpg'"
      ]
     },
     "execution_count": 9,
     "metadata": {},
     "output_type": "execute_result"
    }
   ],
   "source": [
    "fullurl= url2+image_url\n",
    "fullurl"
   ]
  },
  {
   "cell_type": "code",
   "execution_count": 10,
   "id": "03428f29",
   "metadata": {},
   "outputs": [],
   "source": [
    "mars['feature_image_url']= fullurl"
   ]
  },
  {
   "cell_type": "code",
   "execution_count": 11,
   "id": "80ca97e5",
   "metadata": {},
   "outputs": [],
   "source": [
    "url4= \"https://marshemispheres.com/\"\n",
    "browser.visit(url4)"
   ]
  },
  {
   "cell_type": "code",
   "execution_count": 12,
   "id": "8ee90994",
   "metadata": {},
   "outputs": [],
   "source": [
    "hemisphere_image_url= []\n",
    "imagelink= browser.find_by_css('a.product-item img')\n",
    "for link in range(len(imagelink)):\n",
    "    hemisphere={}\n",
    "    browser.find_by_css('a.product-item img')[link].click()\n",
    "    element= browser.find_by_text('Sample')['href']\n",
    "    hemisphere['image_url']= element\n",
    "    hemisphere['title']= browser.find_by_css('h2.title').text\n",
    "    hemisphere_image_url.append(hemisphere)\n",
    "    browser.back()\n",
    "    \n",
    "    \n",
    "hemisphere_image_url    \n",
    "\n",
    "mars[\"hemispheres\"]= hemisphere_image_url"
   ]
  },
  {
   "cell_type": "code",
   "execution_count": 13,
   "id": "07e6b0c2",
   "metadata": {},
   "outputs": [
    {
     "data": {
      "text/plain": [
       "{'news_title': \"What's Mars Solar Conjunction, and Why Does It Matter?\",\n",
       " 'news_paragraph': 'NASA spacecraft at Mars are going to be on their own for a few weeks when the Sun comes between Mars and Earth, interrupting communications.',\n",
       " 'feature_image_url': 'https://spaceimages-mars.com/image/featured/mars3.jpg',\n",
       " 'hemispheres': [{'image_url': 'https://marshemispheres.com/images/full.jpg',\n",
       "   'title': 'Cerberus Hemisphere Enhanced'},\n",
       "  {'image_url': 'https://marshemispheres.com/images/schiaparelli_enhanced-full.jpg',\n",
       "   'title': 'Schiaparelli Hemisphere Enhanced'},\n",
       "  {'image_url': 'https://marshemispheres.com/images/syrtis_major_enhanced-full.jpg',\n",
       "   'title': 'Syrtis Major Hemisphere Enhanced'},\n",
       "  {'image_url': 'https://marshemispheres.com/images/valles_marineris_enhanced-full.jpg',\n",
       "   'title': 'Valles Marineris Hemisphere Enhanced'}]}"
      ]
     },
     "execution_count": 13,
     "metadata": {},
     "output_type": "execute_result"
    }
   ],
   "source": [
    "mars"
   ]
  },
  {
   "cell_type": "code",
   "execution_count": 23,
   "id": "2943120c",
   "metadata": {},
   "outputs": [
    {
     "data": {
      "text/html": [
       "<div>\n",
       "<style scoped>\n",
       "    .dataframe tbody tr th:only-of-type {\n",
       "        vertical-align: middle;\n",
       "    }\n",
       "\n",
       "    .dataframe tbody tr th {\n",
       "        vertical-align: top;\n",
       "    }\n",
       "\n",
       "    .dataframe thead th {\n",
       "        text-align: right;\n",
       "    }\n",
       "</style>\n",
       "<table border=\"1\" class=\"dataframe\">\n",
       "  <thead>\n",
       "    <tr style=\"text-align: right;\">\n",
       "      <th></th>\n",
       "      <th>0</th>\n",
       "      <th>1</th>\n",
       "      <th>2</th>\n",
       "    </tr>\n",
       "  </thead>\n",
       "  <tbody>\n",
       "    <tr>\n",
       "      <th>0</th>\n",
       "      <td>Mars - Earth Comparison</td>\n",
       "      <td>Mars</td>\n",
       "      <td>Earth</td>\n",
       "    </tr>\n",
       "    <tr>\n",
       "      <th>1</th>\n",
       "      <td>Diameter:</td>\n",
       "      <td>6,779 km</td>\n",
       "      <td>12,742 km</td>\n",
       "    </tr>\n",
       "    <tr>\n",
       "      <th>2</th>\n",
       "      <td>Mass:</td>\n",
       "      <td>6.39 × 10^23 kg</td>\n",
       "      <td>5.97 × 10^24 kg</td>\n",
       "    </tr>\n",
       "    <tr>\n",
       "      <th>3</th>\n",
       "      <td>Moons:</td>\n",
       "      <td>2</td>\n",
       "      <td>1</td>\n",
       "    </tr>\n",
       "    <tr>\n",
       "      <th>4</th>\n",
       "      <td>Distance from Sun:</td>\n",
       "      <td>227,943,824 km</td>\n",
       "      <td>149,598,262 km</td>\n",
       "    </tr>\n",
       "    <tr>\n",
       "      <th>5</th>\n",
       "      <td>Length of Year:</td>\n",
       "      <td>687 Earth days</td>\n",
       "      <td>365.24 days</td>\n",
       "    </tr>\n",
       "    <tr>\n",
       "      <th>6</th>\n",
       "      <td>Temperature:</td>\n",
       "      <td>-87 to -5 °C</td>\n",
       "      <td>-88 to 58°C</td>\n",
       "    </tr>\n",
       "  </tbody>\n",
       "</table>\n",
       "</div>"
      ],
      "text/plain": [
       "                         0                1                2\n",
       "0  Mars - Earth Comparison             Mars            Earth\n",
       "1                Diameter:         6,779 km        12,742 km\n",
       "2                    Mass:  6.39 × 10^23 kg  5.97 × 10^24 kg\n",
       "3                   Moons:                2                1\n",
       "4       Distance from Sun:   227,943,824 km   149,598,262 km\n",
       "5          Length of Year:   687 Earth days      365.24 days\n",
       "6             Temperature:     -87 to -5 °C      -88 to 58°C"
      ]
     },
     "execution_count": 23,
     "metadata": {},
     "output_type": "execute_result"
    }
   ],
   "source": [
    "url3= \"https://galaxyfacts-mars.com\"\n",
    "df_facts= pd.read_html(url3)[0]\n",
    "df_facts"
   ]
  },
  {
   "cell_type": "code",
   "execution_count": 24,
   "id": "dd6a8b74",
   "metadata": {},
   "outputs": [
    {
     "data": {
      "text/html": [
       "<div>\n",
       "<style scoped>\n",
       "    .dataframe tbody tr th:only-of-type {\n",
       "        vertical-align: middle;\n",
       "    }\n",
       "\n",
       "    .dataframe tbody tr th {\n",
       "        vertical-align: top;\n",
       "    }\n",
       "\n",
       "    .dataframe thead th {\n",
       "        text-align: right;\n",
       "    }\n",
       "</style>\n",
       "<table border=\"1\" class=\"dataframe\">\n",
       "  <thead>\n",
       "    <tr style=\"text-align: right;\">\n",
       "      <th></th>\n",
       "      <th>description</th>\n",
       "      <th>mars</th>\n",
       "      <th>earth</th>\n",
       "    </tr>\n",
       "  </thead>\n",
       "  <tbody>\n",
       "    <tr>\n",
       "      <th>0</th>\n",
       "      <td>Mars - Earth Comparison</td>\n",
       "      <td>Mars</td>\n",
       "      <td>Earth</td>\n",
       "    </tr>\n",
       "    <tr>\n",
       "      <th>1</th>\n",
       "      <td>Diameter:</td>\n",
       "      <td>6,779 km</td>\n",
       "      <td>12,742 km</td>\n",
       "    </tr>\n",
       "    <tr>\n",
       "      <th>2</th>\n",
       "      <td>Mass:</td>\n",
       "      <td>6.39 × 10^23 kg</td>\n",
       "      <td>5.97 × 10^24 kg</td>\n",
       "    </tr>\n",
       "    <tr>\n",
       "      <th>3</th>\n",
       "      <td>Moons:</td>\n",
       "      <td>2</td>\n",
       "      <td>1</td>\n",
       "    </tr>\n",
       "    <tr>\n",
       "      <th>4</th>\n",
       "      <td>Distance from Sun:</td>\n",
       "      <td>227,943,824 km</td>\n",
       "      <td>149,598,262 km</td>\n",
       "    </tr>\n",
       "    <tr>\n",
       "      <th>5</th>\n",
       "      <td>Length of Year:</td>\n",
       "      <td>687 Earth days</td>\n",
       "      <td>365.24 days</td>\n",
       "    </tr>\n",
       "    <tr>\n",
       "      <th>6</th>\n",
       "      <td>Temperature:</td>\n",
       "      <td>-87 to -5 °C</td>\n",
       "      <td>-88 to 58°C</td>\n",
       "    </tr>\n",
       "  </tbody>\n",
       "</table>\n",
       "</div>"
      ],
      "text/plain": [
       "               description             mars            earth\n",
       "0  Mars - Earth Comparison             Mars            Earth\n",
       "1                Diameter:         6,779 km        12,742 km\n",
       "2                    Mass:  6.39 × 10^23 kg  5.97 × 10^24 kg\n",
       "3                   Moons:                2                1\n",
       "4       Distance from Sun:   227,943,824 km   149,598,262 km\n",
       "5          Length of Year:   687 Earth days      365.24 days\n",
       "6             Temperature:     -87 to -5 °C      -88 to 58°C"
      ]
     },
     "execution_count": 24,
     "metadata": {},
     "output_type": "execute_result"
    }
   ],
   "source": [
    "df_facts.columns= [\"description\", \"mars\", \"earth\"]\n",
    "df_facts"
   ]
  },
  {
   "cell_type": "code",
   "execution_count": 25,
   "id": "3b371f16",
   "metadata": {},
   "outputs": [
    {
     "data": {
      "text/html": [
       "<div>\n",
       "<style scoped>\n",
       "    .dataframe tbody tr th:only-of-type {\n",
       "        vertical-align: middle;\n",
       "    }\n",
       "\n",
       "    .dataframe tbody tr th {\n",
       "        vertical-align: top;\n",
       "    }\n",
       "\n",
       "    .dataframe thead th {\n",
       "        text-align: right;\n",
       "    }\n",
       "</style>\n",
       "<table border=\"1\" class=\"dataframe\">\n",
       "  <thead>\n",
       "    <tr style=\"text-align: right;\">\n",
       "      <th></th>\n",
       "      <th>mars</th>\n",
       "      <th>earth</th>\n",
       "    </tr>\n",
       "    <tr>\n",
       "      <th>description</th>\n",
       "      <th></th>\n",
       "      <th></th>\n",
       "    </tr>\n",
       "  </thead>\n",
       "  <tbody>\n",
       "    <tr>\n",
       "      <th>Mars - Earth Comparison</th>\n",
       "      <td>Mars</td>\n",
       "      <td>Earth</td>\n",
       "    </tr>\n",
       "    <tr>\n",
       "      <th>Diameter:</th>\n",
       "      <td>6,779 km</td>\n",
       "      <td>12,742 km</td>\n",
       "    </tr>\n",
       "    <tr>\n",
       "      <th>Mass:</th>\n",
       "      <td>6.39 × 10^23 kg</td>\n",
       "      <td>5.97 × 10^24 kg</td>\n",
       "    </tr>\n",
       "    <tr>\n",
       "      <th>Moons:</th>\n",
       "      <td>2</td>\n",
       "      <td>1</td>\n",
       "    </tr>\n",
       "    <tr>\n",
       "      <th>Distance from Sun:</th>\n",
       "      <td>227,943,824 km</td>\n",
       "      <td>149,598,262 km</td>\n",
       "    </tr>\n",
       "    <tr>\n",
       "      <th>Length of Year:</th>\n",
       "      <td>687 Earth days</td>\n",
       "      <td>365.24 days</td>\n",
       "    </tr>\n",
       "    <tr>\n",
       "      <th>Temperature:</th>\n",
       "      <td>-87 to -5 °C</td>\n",
       "      <td>-88 to 58°C</td>\n",
       "    </tr>\n",
       "  </tbody>\n",
       "</table>\n",
       "</div>"
      ],
      "text/plain": [
       "                                    mars            earth\n",
       "description                                              \n",
       "Mars - Earth Comparison             Mars            Earth\n",
       "Diameter:                       6,779 km        12,742 km\n",
       "Mass:                    6.39 × 10^23 kg  5.97 × 10^24 kg\n",
       "Moons:                                 2                1\n",
       "Distance from Sun:        227,943,824 km   149,598,262 km\n",
       "Length of Year:           687 Earth days      365.24 days\n",
       "Temperature:                -87 to -5 °C      -88 to 58°C"
      ]
     },
     "execution_count": 25,
     "metadata": {},
     "output_type": "execute_result"
    }
   ],
   "source": [
    "df_facts.set_index(\"description\", inplace= True)\n",
    "df_facts"
   ]
  },
  {
   "cell_type": "code",
   "execution_count": 26,
   "id": "193a777d",
   "metadata": {},
   "outputs": [
    {
     "data": {
      "text/plain": [
       "{'news_title': \"What's Mars Solar Conjunction, and Why Does It Matter?\",\n",
       " 'news_paragraph': 'NASA spacecraft at Mars are going to be on their own for a few weeks when the Sun comes between Mars and Earth, interrupting communications.',\n",
       " 'feature_image_url': 'https://spaceimages-mars.com/image/featured/mars3.jpg',\n",
       " 'hemispheres': [{'image_url': 'https://marshemispheres.com/images/full.jpg',\n",
       "   'title': 'Cerberus Hemisphere Enhanced'},\n",
       "  {'image_url': 'https://marshemispheres.com/images/schiaparelli_enhanced-full.jpg',\n",
       "   'title': 'Schiaparelli Hemisphere Enhanced'},\n",
       "  {'image_url': 'https://marshemispheres.com/images/syrtis_major_enhanced-full.jpg',\n",
       "   'title': 'Syrtis Major Hemisphere Enhanced'},\n",
       "  {'image_url': 'https://marshemispheres.com/images/valles_marineris_enhanced-full.jpg',\n",
       "   'title': 'Valles Marineris Hemisphere Enhanced'}],\n",
       " 'facts': '<table border=\"1\" class=\"dataframe table table-striped\">\\n  <thead>\\n    <tr style=\"text-align: right;\">\\n      <th></th>\\n      <th>mars</th>\\n      <th>earth</th>\\n    </tr>\\n    <tr>\\n      <th>description</th>\\n      <th></th>\\n      <th></th>\\n    </tr>\\n  </thead>\\n  <tbody>\\n    <tr>\\n      <th>Mars - Earth Comparison</th>\\n      <td>Mars</td>\\n      <td>Earth</td>\\n    </tr>\\n    <tr>\\n      <th>Diameter:</th>\\n      <td>6,779 km</td>\\n      <td>12,742 km</td>\\n    </tr>\\n    <tr>\\n      <th>Mass:</th>\\n      <td>6.39 × 10^23 kg</td>\\n      <td>5.97 × 10^24 kg</td>\\n    </tr>\\n    <tr>\\n      <th>Moons:</th>\\n      <td>2</td>\\n      <td>1</td>\\n    </tr>\\n    <tr>\\n      <th>Distance from Sun:</th>\\n      <td>227,943,824 km</td>\\n      <td>149,598,262 km</td>\\n    </tr>\\n    <tr>\\n      <th>Length of Year:</th>\\n      <td>687 Earth days</td>\\n      <td>365.24 days</td>\\n    </tr>\\n    <tr>\\n      <th>Temperature:</th>\\n      <td>-87 to -5 °C</td>\\n      <td>-88 to 58°C</td>\\n    </tr>\\n  </tbody>\\n</table>'}"
      ]
     },
     "execution_count": 26,
     "metadata": {},
     "output_type": "execute_result"
    }
   ],
   "source": [
    "mars[\"facts\"]= df_facts.to_html(classes= \"table table-striped\")\n",
    "mars"
   ]
  },
  {
   "cell_type": "code",
   "execution_count": null,
   "id": "492de72d",
   "metadata": {},
   "outputs": [],
   "source": []
  }
 ],
 "metadata": {
  "kernelspec": {
   "display_name": "Python 3 (ipykernel)",
   "language": "python",
   "name": "python3"
  },
  "language_info": {
   "codemirror_mode": {
    "name": "ipython",
    "version": 3
   },
   "file_extension": ".py",
   "mimetype": "text/x-python",
   "name": "python",
   "nbconvert_exporter": "python",
   "pygments_lexer": "ipython3",
   "version": "3.9.7"
  }
 },
 "nbformat": 4,
 "nbformat_minor": 5
}
